{
 "cells": [
  {
   "cell_type": "code",
   "execution_count": 17,
   "metadata": {},
   "outputs": [
    {
     "name": "stdout",
     "output_type": "stream",
     "text": [
      "Requirement already satisfied: openmeteo-requests in /Users/k.chanatip/Desktop/CP49/Year-3/traffy-sunglui/.venv/lib/python3.13/site-packages (1.4.0)\n",
      "Requirement already satisfied: numpy in /Users/k.chanatip/Desktop/CP49/Year-3/traffy-sunglui/.venv/lib/python3.13/site-packages (2.2.5)\n",
      "Requirement already satisfied: pandas in /Users/k.chanatip/Desktop/CP49/Year-3/traffy-sunglui/.venv/lib/python3.13/site-packages (2.2.3)\n",
      "Requirement already satisfied: matplotlib in /Users/k.chanatip/Desktop/CP49/Year-3/traffy-sunglui/.venv/lib/python3.13/site-packages (3.10.1)\n",
      "Requirement already satisfied: openmeteo-sdk>=1.4.0 in /Users/k.chanatip/Desktop/CP49/Year-3/traffy-sunglui/.venv/lib/python3.13/site-packages (from openmeteo-requests) (1.20.0)\n",
      "Requirement already satisfied: requests in /Users/k.chanatip/Desktop/CP49/Year-3/traffy-sunglui/.venv/lib/python3.13/site-packages (from openmeteo-requests) (2.32.3)\n",
      "Requirement already satisfied: python-dateutil>=2.8.2 in /Users/k.chanatip/Desktop/CP49/Year-3/traffy-sunglui/.venv/lib/python3.13/site-packages (from pandas) (2.9.0.post0)\n",
      "Requirement already satisfied: pytz>=2020.1 in /Users/k.chanatip/Desktop/CP49/Year-3/traffy-sunglui/.venv/lib/python3.13/site-packages (from pandas) (2025.2)\n",
      "Requirement already satisfied: tzdata>=2022.7 in /Users/k.chanatip/Desktop/CP49/Year-3/traffy-sunglui/.venv/lib/python3.13/site-packages (from pandas) (2025.2)\n",
      "Requirement already satisfied: contourpy>=1.0.1 in /Users/k.chanatip/Desktop/CP49/Year-3/traffy-sunglui/.venv/lib/python3.13/site-packages (from matplotlib) (1.3.2)\n",
      "Requirement already satisfied: cycler>=0.10 in /Users/k.chanatip/Desktop/CP49/Year-3/traffy-sunglui/.venv/lib/python3.13/site-packages (from matplotlib) (0.12.1)\n",
      "Requirement already satisfied: fonttools>=4.22.0 in /Users/k.chanatip/Desktop/CP49/Year-3/traffy-sunglui/.venv/lib/python3.13/site-packages (from matplotlib) (4.57.0)\n",
      "Requirement already satisfied: kiwisolver>=1.3.1 in /Users/k.chanatip/Desktop/CP49/Year-3/traffy-sunglui/.venv/lib/python3.13/site-packages (from matplotlib) (1.4.8)\n",
      "Requirement already satisfied: packaging>=20.0 in /Users/k.chanatip/Desktop/CP49/Year-3/traffy-sunglui/.venv/lib/python3.13/site-packages (from matplotlib) (25.0)\n",
      "Requirement already satisfied: pillow>=8 in /Users/k.chanatip/Desktop/CP49/Year-3/traffy-sunglui/.venv/lib/python3.13/site-packages (from matplotlib) (11.2.1)\n",
      "Requirement already satisfied: pyparsing>=2.3.1 in /Users/k.chanatip/Desktop/CP49/Year-3/traffy-sunglui/.venv/lib/python3.13/site-packages (from matplotlib) (3.2.3)\n",
      "Requirement already satisfied: flatbuffers==25.2.10 in /Users/k.chanatip/Desktop/CP49/Year-3/traffy-sunglui/.venv/lib/python3.13/site-packages (from openmeteo-sdk>=1.4.0->openmeteo-requests) (25.2.10)\n",
      "Requirement already satisfied: six>=1.5 in /Users/k.chanatip/Desktop/CP49/Year-3/traffy-sunglui/.venv/lib/python3.13/site-packages (from python-dateutil>=2.8.2->pandas) (1.17.0)\n",
      "Requirement already satisfied: charset-normalizer<4,>=2 in /Users/k.chanatip/Desktop/CP49/Year-3/traffy-sunglui/.venv/lib/python3.13/site-packages (from requests->openmeteo-requests) (3.4.2)\n",
      "Requirement already satisfied: idna<4,>=2.5 in /Users/k.chanatip/Desktop/CP49/Year-3/traffy-sunglui/.venv/lib/python3.13/site-packages (from requests->openmeteo-requests) (3.10)\n",
      "Requirement already satisfied: urllib3<3,>=1.21.1 in /Users/k.chanatip/Desktop/CP49/Year-3/traffy-sunglui/.venv/lib/python3.13/site-packages (from requests->openmeteo-requests) (2.4.0)\n",
      "Requirement already satisfied: certifi>=2017.4.17 in /Users/k.chanatip/Desktop/CP49/Year-3/traffy-sunglui/.venv/lib/python3.13/site-packages (from requests->openmeteo-requests) (2025.4.26)\n",
      "Note: you may need to restart the kernel to use updated packages.\n"
     ]
    }
   ],
   "source": [
    "%pip install openmeteo-requests numpy pandas matplotlib"
   ]
  },
  {
   "cell_type": "code",
   "execution_count": 18,
   "metadata": {},
   "outputs": [],
   "source": [
    "import openmeteo_requests\n",
    "import numpy as np\n",
    "import pandas as pd"
   ]
  },
  {
   "cell_type": "code",
   "execution_count": 19,
   "metadata": {},
   "outputs": [],
   "source": [
    "# Bangkok coordinates\n",
    "LATITUDE = 13.7563\n",
    "LONGTITUDE = 100.5018\n",
    "\n",
    "START_DATE = \"2021-08-01\"\n",
    "END_DATE = \"2025-01-31\"\n",
    "\n",
    "RAIN_SUM_THRESHOLD = 1 # mm\n",
    "PRECIPITATION_HOURS_THRESHOLD = 3 # hours"
   ]
  },
  {
   "cell_type": "code",
   "execution_count": 20,
   "metadata": {},
   "outputs": [],
   "source": [
    "openmeteo = openmeteo_requests.Client()\n",
    "\n",
    "url = \"https://archive-api.open-meteo.com/v1/archive\"\n",
    "params = {\n",
    "    \"latitude\": LATITUDE,\n",
    "    \"longitude\": LONGTITUDE,\n",
    "    \"start_date\": START_DATE,\n",
    "    \"end_date\": END_DATE,\n",
    "    \"daily\": [\"rain_sum\", \"precipitation_hours\", \"precipitation_sum\"],\n",
    "    \"timezone\": \"Asia/Bangkok\",\n",
    "}\n",
    "responses = openmeteo.weather_api(url, params=params)"
   ]
  },
  {
   "cell_type": "code",
   "execution_count": 21,
   "metadata": {},
   "outputs": [
    {
     "name": "stdout",
     "output_type": "stream",
     "text": [
      "Coordinates 13.743409156799316°N 100.49586486816406°E\n",
      "Elevation 4.0 m asl\n",
      "Timezone b'Asia/Bangkok'b'GMT+7'\n",
      "Timezone difference to GMT+0 25200 s\n"
     ]
    }
   ],
   "source": [
    "response = responses[0]\n",
    "print(f\"Coordinates {response.Latitude()}°N {response.Longitude()}°E\")\n",
    "print(f\"Elevation {response.Elevation()} m asl\")\n",
    "print(f\"Timezone {response.Timezone()}{response.TimezoneAbbreviation()}\")\n",
    "print(f\"Timezone difference to GMT+0 {response.UtcOffsetSeconds()} s\")"
   ]
  },
  {
   "cell_type": "code",
   "execution_count": 22,
   "metadata": {},
   "outputs": [],
   "source": [
    "daily = response.Daily()\n",
    "daily_rain_sum = daily.Variables(0).ValuesAsNumpy()\n",
    "daily_precipitation_hours = daily.Variables(1).ValuesAsNumpy()\n",
    "daily_precipitation_sum = daily.Variables(2).ValuesAsNumpy()\n",
    "\n",
    "daily_data = {\n",
    "    \"date\": pd.date_range(\n",
    "        start=pd.to_datetime(daily.Time(), unit=\"s\", utc=True),\n",
    "        end=pd.to_datetime(daily.TimeEnd(), unit=\"s\", utc=True),\n",
    "        freq=pd.Timedelta(seconds=daily.Interval()),\n",
    "        inclusive=\"left\",\n",
    "    )\n",
    "}\n",
    "\n",
    "daily_data[\"rain_sum\"] = daily_rain_sum\n",
    "daily_data[\"precipitation_hours\"] = daily_precipitation_hours\n",
    "daily_data[\"precipitation_sum\"] = daily_precipitation_sum\n",
    "\n",
    "rain_df = pd.DataFrame(data=daily_data)"
   ]
  },
  {
   "cell_type": "code",
   "execution_count": 23,
   "metadata": {},
   "outputs": [
    {
     "data": {
      "text/html": [
       "<div>\n",
       "<style scoped>\n",
       "    .dataframe tbody tr th:only-of-type {\n",
       "        vertical-align: middle;\n",
       "    }\n",
       "\n",
       "    .dataframe tbody tr th {\n",
       "        vertical-align: top;\n",
       "    }\n",
       "\n",
       "    .dataframe thead th {\n",
       "        text-align: right;\n",
       "    }\n",
       "</style>\n",
       "<table border=\"1\" class=\"dataframe\">\n",
       "  <thead>\n",
       "    <tr style=\"text-align: right;\">\n",
       "      <th></th>\n",
       "      <th>rain_sum</th>\n",
       "      <th>precipitation_hours</th>\n",
       "      <th>precipitation_sum</th>\n",
       "    </tr>\n",
       "  </thead>\n",
       "  <tbody>\n",
       "    <tr>\n",
       "      <th>count</th>\n",
       "      <td>1280.000000</td>\n",
       "      <td>1280.000000</td>\n",
       "      <td>1280.000000</td>\n",
       "    </tr>\n",
       "    <tr>\n",
       "      <th>mean</th>\n",
       "      <td>4.964766</td>\n",
       "      <td>5.274219</td>\n",
       "      <td>4.964766</td>\n",
       "    </tr>\n",
       "    <tr>\n",
       "      <th>std</th>\n",
       "      <td>7.602226</td>\n",
       "      <td>5.592687</td>\n",
       "      <td>7.602226</td>\n",
       "    </tr>\n",
       "    <tr>\n",
       "      <th>min</th>\n",
       "      <td>0.000000</td>\n",
       "      <td>0.000000</td>\n",
       "      <td>0.000000</td>\n",
       "    </tr>\n",
       "    <tr>\n",
       "      <th>25%</th>\n",
       "      <td>0.000000</td>\n",
       "      <td>0.000000</td>\n",
       "      <td>0.000000</td>\n",
       "    </tr>\n",
       "    <tr>\n",
       "      <th>50%</th>\n",
       "      <td>1.300000</td>\n",
       "      <td>4.000000</td>\n",
       "      <td>1.300000</td>\n",
       "    </tr>\n",
       "    <tr>\n",
       "      <th>75%</th>\n",
       "      <td>7.100000</td>\n",
       "      <td>8.000000</td>\n",
       "      <td>7.100000</td>\n",
       "    </tr>\n",
       "    <tr>\n",
       "      <th>max</th>\n",
       "      <td>56.800003</td>\n",
       "      <td>24.000000</td>\n",
       "      <td>56.800003</td>\n",
       "    </tr>\n",
       "  </tbody>\n",
       "</table>\n",
       "</div>"
      ],
      "text/plain": [
       "          rain_sum  precipitation_hours  precipitation_sum\n",
       "count  1280.000000          1280.000000        1280.000000\n",
       "mean      4.964766             5.274219           4.964766\n",
       "std       7.602226             5.592687           7.602226\n",
       "min       0.000000             0.000000           0.000000\n",
       "25%       0.000000             0.000000           0.000000\n",
       "50%       1.300000             4.000000           1.300000\n",
       "75%       7.100000             8.000000           7.100000\n",
       "max      56.800003            24.000000          56.800003"
      ]
     },
     "execution_count": 23,
     "metadata": {},
     "output_type": "execute_result"
    }
   ],
   "source": [
    "rain_df.describe()"
   ]
  },
  {
   "cell_type": "code",
   "execution_count": 24,
   "metadata": {},
   "outputs": [
    {
     "data": {
      "text/plain": [
       "is_rain\n",
       "True     657\n",
       "False    623\n",
       "Name: count, dtype: int64"
      ]
     },
     "execution_count": 24,
     "metadata": {},
     "output_type": "execute_result"
    }
   ],
   "source": [
    "rain_df['is_rain'] = (rain_df['rain_sum'] >= RAIN_SUM_THRESHOLD) & (rain_df['precipitation_hours'] >= PRECIPITATION_HOURS_THRESHOLD)\n",
    "rain_df['is_rain'].value_counts()"
   ]
  },
  {
   "cell_type": "code",
   "execution_count": 25,
   "metadata": {},
   "outputs": [],
   "source": [
    "rain_df['date'] = pd.to_datetime(rain_df[\"date\"]).dt.date.astype(str)"
   ]
  },
  {
   "cell_type": "code",
   "execution_count": 26,
   "metadata": {},
   "outputs": [
    {
     "data": {
      "text/html": [
       "<div>\n",
       "<style scoped>\n",
       "    .dataframe tbody tr th:only-of-type {\n",
       "        vertical-align: middle;\n",
       "    }\n",
       "\n",
       "    .dataframe tbody tr th {\n",
       "        vertical-align: top;\n",
       "    }\n",
       "\n",
       "    .dataframe thead th {\n",
       "        text-align: right;\n",
       "    }\n",
       "</style>\n",
       "<table border=\"1\" class=\"dataframe\">\n",
       "  <thead>\n",
       "    <tr style=\"text-align: right;\">\n",
       "      <th></th>\n",
       "      <th>date</th>\n",
       "      <th>rain_sum</th>\n",
       "      <th>precipitation_hours</th>\n",
       "      <th>precipitation_sum</th>\n",
       "      <th>is_rain</th>\n",
       "    </tr>\n",
       "  </thead>\n",
       "  <tbody>\n",
       "    <tr>\n",
       "      <th>0</th>\n",
       "      <td>2021-07-31</td>\n",
       "      <td>3.2</td>\n",
       "      <td>6.0</td>\n",
       "      <td>3.2</td>\n",
       "      <td>True</td>\n",
       "    </tr>\n",
       "    <tr>\n",
       "      <th>1</th>\n",
       "      <td>2021-08-01</td>\n",
       "      <td>1.1</td>\n",
       "      <td>6.0</td>\n",
       "      <td>1.1</td>\n",
       "      <td>True</td>\n",
       "    </tr>\n",
       "    <tr>\n",
       "      <th>2</th>\n",
       "      <td>2021-08-02</td>\n",
       "      <td>5.9</td>\n",
       "      <td>4.0</td>\n",
       "      <td>5.9</td>\n",
       "      <td>True</td>\n",
       "    </tr>\n",
       "    <tr>\n",
       "      <th>3</th>\n",
       "      <td>2021-08-03</td>\n",
       "      <td>2.9</td>\n",
       "      <td>7.0</td>\n",
       "      <td>2.9</td>\n",
       "      <td>True</td>\n",
       "    </tr>\n",
       "    <tr>\n",
       "      <th>4</th>\n",
       "      <td>2021-08-04</td>\n",
       "      <td>4.9</td>\n",
       "      <td>8.0</td>\n",
       "      <td>4.9</td>\n",
       "      <td>True</td>\n",
       "    </tr>\n",
       "  </tbody>\n",
       "</table>\n",
       "</div>"
      ],
      "text/plain": [
       "         date  rain_sum  precipitation_hours  precipitation_sum  is_rain\n",
       "0  2021-07-31       3.2                  6.0                3.2     True\n",
       "1  2021-08-01       1.1                  6.0                1.1     True\n",
       "2  2021-08-02       5.9                  4.0                5.9     True\n",
       "3  2021-08-03       2.9                  7.0                2.9     True\n",
       "4  2021-08-04       4.9                  8.0                4.9     True"
      ]
     },
     "execution_count": 26,
     "metadata": {},
     "output_type": "execute_result"
    }
   ],
   "source": [
    "rain_df.head(5)"
   ]
  },
  {
   "cell_type": "code",
   "execution_count": 27,
   "metadata": {},
   "outputs": [
    {
     "name": "stdout",
     "output_type": "stream",
     "text": [
      "<class 'pandas.core.frame.DataFrame'>\n",
      "RangeIndex: 1280 entries, 0 to 1279\n",
      "Data columns (total 5 columns):\n",
      " #   Column               Non-Null Count  Dtype  \n",
      "---  ------               --------------  -----  \n",
      " 0   date                 1280 non-null   object \n",
      " 1   rain_sum             1280 non-null   float32\n",
      " 2   precipitation_hours  1280 non-null   float32\n",
      " 3   precipitation_sum    1280 non-null   float32\n",
      " 4   is_rain              1280 non-null   bool   \n",
      "dtypes: bool(1), float32(3), object(1)\n",
      "memory usage: 26.4+ KB\n"
     ]
    }
   ],
   "source": [
    "rain_df.info()"
   ]
  },
  {
   "cell_type": "code",
   "execution_count": 28,
   "metadata": {},
   "outputs": [],
   "source": [
    "rain_df.to_csv(\"./data/rain_data.csv\", index=False)"
   ]
  },
  {
   "cell_type": "code",
   "execution_count": null,
   "metadata": {},
   "outputs": [],
   "source": []
  }
 ],
 "metadata": {
  "kernelspec": {
   "display_name": ".venv",
   "language": "python",
   "name": "python3"
  },
  "language_info": {
   "codemirror_mode": {
    "name": "ipython",
    "version": 3
   },
   "file_extension": ".py",
   "mimetype": "text/x-python",
   "name": "python",
   "nbconvert_exporter": "python",
   "pygments_lexer": "ipython3",
   "version": "3.13.1"
  }
 },
 "nbformat": 4,
 "nbformat_minor": 2
}
