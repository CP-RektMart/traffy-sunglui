{
 "cells": [
  {
   "cell_type": "code",
   "execution_count": 2,
   "metadata": {},
   "outputs": [
    {
     "name": "stdout",
     "output_type": "stream",
     "text": [
      "Collecting openmeteo-requests\n",
      "  Downloading openmeteo_requests-1.4.0-py3-none-any.whl.metadata (9.7 kB)\n",
      "Collecting openmeteo-sdk>=1.4.0 (from openmeteo-requests)\n",
      "  Downloading openmeteo_sdk-1.20.0-py3-none-any.whl.metadata (935 bytes)\n",
      "Requirement already satisfied: requests in ./.venv/lib/python3.13/site-packages (from openmeteo-requests) (2.32.3)\n",
      "Collecting flatbuffers==25.2.10 (from openmeteo-sdk>=1.4.0->openmeteo-requests)\n",
      "  Downloading flatbuffers-25.2.10-py2.py3-none-any.whl.metadata (875 bytes)\n",
      "Requirement already satisfied: charset-normalizer<4,>=2 in ./.venv/lib/python3.13/site-packages (from requests->openmeteo-requests) (3.4.1)\n",
      "Requirement already satisfied: idna<4,>=2.5 in ./.venv/lib/python3.13/site-packages (from requests->openmeteo-requests) (3.10)\n",
      "Requirement already satisfied: urllib3<3,>=1.21.1 in ./.venv/lib/python3.13/site-packages (from requests->openmeteo-requests) (2.3.0)\n",
      "Requirement already satisfied: certifi>=2017.4.17 in ./.venv/lib/python3.13/site-packages (from requests->openmeteo-requests) (2025.1.31)\n",
      "Downloading openmeteo_requests-1.4.0-py3-none-any.whl (6.0 kB)\n",
      "Downloading openmeteo_sdk-1.20.0-py3-none-any.whl (15 kB)\n",
      "Downloading flatbuffers-25.2.10-py2.py3-none-any.whl (30 kB)\n",
      "Installing collected packages: flatbuffers, openmeteo-sdk, openmeteo-requests\n",
      "Successfully installed flatbuffers-25.2.10 openmeteo-requests-1.4.0 openmeteo-sdk-1.20.0\n",
      "\n",
      "\u001b[1m[\u001b[0m\u001b[34;49mnotice\u001b[0m\u001b[1;39;49m]\u001b[0m\u001b[39;49m A new release of pip is available: \u001b[0m\u001b[31;49m25.0\u001b[0m\u001b[39;49m -> \u001b[0m\u001b[32;49m25.1\u001b[0m\n",
      "\u001b[1m[\u001b[0m\u001b[34;49mnotice\u001b[0m\u001b[1;39;49m]\u001b[0m\u001b[39;49m To update, run: \u001b[0m\u001b[32;49mpip install --upgrade pip\u001b[0m\n",
      "Note: you may need to restart the kernel to use updated packages.\n",
      "Requirement already satisfied: numpy in ./.venv/lib/python3.13/site-packages (2.2.1)\n",
      "Requirement already satisfied: pandas in ./.venv/lib/python3.13/site-packages (2.2.3)\n",
      "Requirement already satisfied: python-dateutil>=2.8.2 in ./.venv/lib/python3.13/site-packages (from pandas) (2.9.0.post0)\n",
      "Requirement already satisfied: pytz>=2020.1 in ./.venv/lib/python3.13/site-packages (from pandas) (2024.2)\n",
      "Requirement already satisfied: tzdata>=2022.7 in ./.venv/lib/python3.13/site-packages (from pandas) (2024.2)\n",
      "Requirement already satisfied: six>=1.5 in ./.venv/lib/python3.13/site-packages (from python-dateutil>=2.8.2->pandas) (1.17.0)\n",
      "\n",
      "\u001b[1m[\u001b[0m\u001b[34;49mnotice\u001b[0m\u001b[1;39;49m]\u001b[0m\u001b[39;49m A new release of pip is available: \u001b[0m\u001b[31;49m25.0\u001b[0m\u001b[39;49m -> \u001b[0m\u001b[32;49m25.1\u001b[0m\n",
      "\u001b[1m[\u001b[0m\u001b[34;49mnotice\u001b[0m\u001b[1;39;49m]\u001b[0m\u001b[39;49m To update, run: \u001b[0m\u001b[32;49mpip install --upgrade pip\u001b[0m\n",
      "Note: you may need to restart the kernel to use updated packages.\n"
     ]
    }
   ],
   "source": [
    "%pip install openmeteo-requests\n",
    "%pip install numpy pandas"
   ]
  },
  {
   "cell_type": "code",
   "execution_count": 24,
   "metadata": {},
   "outputs": [],
   "source": [
    "import openmeteo_requests as openmeteo\n",
    "import numpy as np\n",
    "import pandas as pd"
   ]
  },
  {
   "cell_type": "code",
   "execution_count": 32,
   "metadata": {},
   "outputs": [],
   "source": [
    "latitude = 13.7563\n",
    "longitude = 100.5018\n",
    "\n",
    "start_date = \"2021-08-01\"\n",
    "end_date = \"2025-01-31\""
   ]
  },
  {
   "cell_type": "code",
   "execution_count": 36,
   "metadata": {},
   "outputs": [],
   "source": [
    "openmeteo = openmeteo_requests.Client()\n",
    "\n",
    "url = \"https://archive-api.open-meteo.com/v1/archive\"\n",
    "params = {\n",
    "    \"latitude\": latitude,\n",
    "    \"longitude\": longitude,\n",
    "    \"start_date\": start_date,\n",
    "    \"end_date\": end_date,\n",
    "    \"daily\": [\"rain_sum\", \"precipitation_hours\", \"precipitation_sum\"],\n",
    "    \"timezone\": \"Asia/Bangkok\",\n",
    "}\n",
    "responses = openmeteo.weather_api(url, params=params)"
   ]
  },
  {
   "cell_type": "code",
   "execution_count": 37,
   "metadata": {},
   "outputs": [
    {
     "name": "stdout",
     "output_type": "stream",
     "text": [
      "Coordinates 13.743409156799316°N 100.49586486816406°E\n",
      "Elevation 4.0 m asl\n",
      "Timezone b'Asia/Bangkok'b'GMT+7'\n",
      "Timezone difference to GMT+0 25200 s\n"
     ]
    }
   ],
   "source": [
    "response = responses[0]\n",
    "print(f\"Coordinates {response.Latitude()}°N {response.Longitude()}°E\")\n",
    "print(f\"Elevation {response.Elevation()} m asl\")\n",
    "print(f\"Timezone {response.Timezone()}{response.TimezoneAbbreviation()}\")\n",
    "print(f\"Timezone difference to GMT+0 {response.UtcOffsetSeconds()} s\")"
   ]
  },
  {
   "cell_type": "code",
   "execution_count": 39,
   "metadata": {},
   "outputs": [
    {
     "name": "stdout",
     "output_type": "stream",
     "text": [
      "                          date  rain_sum  precipitation_hours  \\\n",
      "0    2021-07-31 17:00:00+00:00       3.2                  6.0   \n",
      "1    2021-08-01 17:00:00+00:00       1.1                  6.0   \n",
      "2    2021-08-02 17:00:00+00:00       5.9                  4.0   \n",
      "3    2021-08-03 17:00:00+00:00       2.9                  7.0   \n",
      "4    2021-08-04 17:00:00+00:00       4.9                  8.0   \n",
      "...                        ...       ...                  ...   \n",
      "1275 2025-01-26 17:00:00+00:00       0.2                  1.0   \n",
      "1276 2025-01-27 17:00:00+00:00       0.0                  0.0   \n",
      "1277 2025-01-28 17:00:00+00:00       0.0                  0.0   \n",
      "1278 2025-01-29 17:00:00+00:00       0.0                  0.0   \n",
      "1279 2025-01-30 17:00:00+00:00       0.0                  0.0   \n",
      "\n",
      "      precipitation_sum  \n",
      "0                   3.2  \n",
      "1                   1.1  \n",
      "2                   5.9  \n",
      "3                   2.9  \n",
      "4                   4.9  \n",
      "...                 ...  \n",
      "1275                0.2  \n",
      "1276                0.0  \n",
      "1277                0.0  \n",
      "1278                0.0  \n",
      "1279                0.0  \n",
      "\n",
      "[1280 rows x 4 columns]\n"
     ]
    }
   ],
   "source": [
    "daily = response.Daily()\n",
    "daily_rain_sum = daily.Variables(0).ValuesAsNumpy()\n",
    "daily_precipitation_hours = daily.Variables(1).ValuesAsNumpy()\n",
    "daily_precipitation_sum = daily.Variables(2).ValuesAsNumpy()\n",
    "\n",
    "daily_data = {\n",
    "    \"date\": pd.date_range(\n",
    "        start=pd.to_datetime(daily.Time(), unit=\"s\", utc=True),\n",
    "        end=pd.to_datetime(daily.TimeEnd(), unit=\"s\", utc=True),\n",
    "        freq=pd.Timedelta(seconds=daily.Interval()),\n",
    "        inclusive=\"left\",\n",
    "    )\n",
    "}\n",
    "\n",
    "daily_data[\"rain_sum\"] = daily_rain_sum\n",
    "daily_data[\"precipitation_hours\"] = daily_precipitation_hours\n",
    "daily_data[\"precipitation_sum\"] = daily_precipitation_sum\n",
    "\n",
    "rain_df = pd.DataFrame(data=daily_data)"
   ]
  },
  {
   "cell_type": "code",
   "execution_count": 42,
   "metadata": {},
   "outputs": [
    {
     "data": {
      "text/html": [
       "<div>\n",
       "<style scoped>\n",
       "    .dataframe tbody tr th:only-of-type {\n",
       "        vertical-align: middle;\n",
       "    }\n",
       "\n",
       "    .dataframe tbody tr th {\n",
       "        vertical-align: top;\n",
       "    }\n",
       "\n",
       "    .dataframe thead th {\n",
       "        text-align: right;\n",
       "    }\n",
       "</style>\n",
       "<table border=\"1\" class=\"dataframe\">\n",
       "  <thead>\n",
       "    <tr style=\"text-align: right;\">\n",
       "      <th></th>\n",
       "      <th>date</th>\n",
       "      <th>rain_sum</th>\n",
       "      <th>precipitation_hours</th>\n",
       "      <th>precipitation_sum</th>\n",
       "    </tr>\n",
       "  </thead>\n",
       "  <tbody>\n",
       "    <tr>\n",
       "      <th>0</th>\n",
       "      <td>2021-07-31 17:00:00+00:00</td>\n",
       "      <td>3.2</td>\n",
       "      <td>6.0</td>\n",
       "      <td>3.2</td>\n",
       "    </tr>\n",
       "    <tr>\n",
       "      <th>1</th>\n",
       "      <td>2021-08-01 17:00:00+00:00</td>\n",
       "      <td>1.1</td>\n",
       "      <td>6.0</td>\n",
       "      <td>1.1</td>\n",
       "    </tr>\n",
       "    <tr>\n",
       "      <th>2</th>\n",
       "      <td>2021-08-02 17:00:00+00:00</td>\n",
       "      <td>5.9</td>\n",
       "      <td>4.0</td>\n",
       "      <td>5.9</td>\n",
       "    </tr>\n",
       "    <tr>\n",
       "      <th>3</th>\n",
       "      <td>2021-08-03 17:00:00+00:00</td>\n",
       "      <td>2.9</td>\n",
       "      <td>7.0</td>\n",
       "      <td>2.9</td>\n",
       "    </tr>\n",
       "    <tr>\n",
       "      <th>4</th>\n",
       "      <td>2021-08-04 17:00:00+00:00</td>\n",
       "      <td>4.9</td>\n",
       "      <td>8.0</td>\n",
       "      <td>4.9</td>\n",
       "    </tr>\n",
       "  </tbody>\n",
       "</table>\n",
       "</div>"
      ],
      "text/plain": [
       "                       date  rain_sum  precipitation_hours  precipitation_sum\n",
       "0 2021-07-31 17:00:00+00:00       3.2                  6.0                3.2\n",
       "1 2021-08-01 17:00:00+00:00       1.1                  6.0                1.1\n",
       "2 2021-08-02 17:00:00+00:00       5.9                  4.0                5.9\n",
       "3 2021-08-03 17:00:00+00:00       2.9                  7.0                2.9\n",
       "4 2021-08-04 17:00:00+00:00       4.9                  8.0                4.9"
      ]
     },
     "execution_count": 42,
     "metadata": {},
     "output_type": "execute_result"
    }
   ],
   "source": [
    "rain_df.head(5)"
   ]
  },
  {
   "cell_type": "code",
   "execution_count": 40,
   "metadata": {},
   "outputs": [
    {
     "data": {
      "text/html": [
       "<div>\n",
       "<style scoped>\n",
       "    .dataframe tbody tr th:only-of-type {\n",
       "        vertical-align: middle;\n",
       "    }\n",
       "\n",
       "    .dataframe tbody tr th {\n",
       "        vertical-align: top;\n",
       "    }\n",
       "\n",
       "    .dataframe thead th {\n",
       "        text-align: right;\n",
       "    }\n",
       "</style>\n",
       "<table border=\"1\" class=\"dataframe\">\n",
       "  <thead>\n",
       "    <tr style=\"text-align: right;\">\n",
       "      <th></th>\n",
       "      <th>rain_sum</th>\n",
       "      <th>precipitation_hours</th>\n",
       "      <th>precipitation_sum</th>\n",
       "    </tr>\n",
       "  </thead>\n",
       "  <tbody>\n",
       "    <tr>\n",
       "      <th>count</th>\n",
       "      <td>1280.000000</td>\n",
       "      <td>1280.000000</td>\n",
       "      <td>1280.000000</td>\n",
       "    </tr>\n",
       "    <tr>\n",
       "      <th>mean</th>\n",
       "      <td>4.964766</td>\n",
       "      <td>5.274219</td>\n",
       "      <td>4.964766</td>\n",
       "    </tr>\n",
       "    <tr>\n",
       "      <th>std</th>\n",
       "      <td>7.602226</td>\n",
       "      <td>5.592687</td>\n",
       "      <td>7.602226</td>\n",
       "    </tr>\n",
       "    <tr>\n",
       "      <th>min</th>\n",
       "      <td>0.000000</td>\n",
       "      <td>0.000000</td>\n",
       "      <td>0.000000</td>\n",
       "    </tr>\n",
       "    <tr>\n",
       "      <th>25%</th>\n",
       "      <td>0.000000</td>\n",
       "      <td>0.000000</td>\n",
       "      <td>0.000000</td>\n",
       "    </tr>\n",
       "    <tr>\n",
       "      <th>50%</th>\n",
       "      <td>1.300000</td>\n",
       "      <td>4.000000</td>\n",
       "      <td>1.300000</td>\n",
       "    </tr>\n",
       "    <tr>\n",
       "      <th>75%</th>\n",
       "      <td>7.100000</td>\n",
       "      <td>8.000000</td>\n",
       "      <td>7.100000</td>\n",
       "    </tr>\n",
       "    <tr>\n",
       "      <th>max</th>\n",
       "      <td>56.800003</td>\n",
       "      <td>24.000000</td>\n",
       "      <td>56.800003</td>\n",
       "    </tr>\n",
       "  </tbody>\n",
       "</table>\n",
       "</div>"
      ],
      "text/plain": [
       "          rain_sum  precipitation_hours  precipitation_sum\n",
       "count  1280.000000          1280.000000        1280.000000\n",
       "mean      4.964766             5.274219           4.964766\n",
       "std       7.602226             5.592687           7.602226\n",
       "min       0.000000             0.000000           0.000000\n",
       "25%       0.000000             0.000000           0.000000\n",
       "50%       1.300000             4.000000           1.300000\n",
       "75%       7.100000             8.000000           7.100000\n",
       "max      56.800003            24.000000          56.800003"
      ]
     },
     "execution_count": 40,
     "metadata": {},
     "output_type": "execute_result"
    }
   ],
   "source": [
    "rain_df.describe()"
   ]
  },
  {
   "cell_type": "code",
   "execution_count": 41,
   "metadata": {},
   "outputs": [],
   "source": [
    "rain_df.to_csv(\"rain_data.csv\", index=False)"
   ]
  },
  {
   "cell_type": "code",
   "execution_count": null,
   "metadata": {},
   "outputs": [],
   "source": []
  }
 ],
 "metadata": {
  "kernelspec": {
   "display_name": ".venv",
   "language": "python",
   "name": "python3"
  },
  "language_info": {
   "codemirror_mode": {
    "name": "ipython",
    "version": 3
   },
   "file_extension": ".py",
   "mimetype": "text/x-python",
   "name": "python",
   "nbconvert_exporter": "python",
   "pygments_lexer": "ipython3",
   "version": "3.13.1"
  }
 },
 "nbformat": 4,
 "nbformat_minor": 2
}
